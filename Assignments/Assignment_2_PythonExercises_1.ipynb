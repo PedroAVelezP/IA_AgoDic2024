{
  "nbformat": 4,
  "nbformat_minor": 0,
  "metadata": {
    "colab": {
      "provenance": [],
      "authorship_tag": "ABX9TyP4CP5tiJST3xUInMwvHIAt",
      "include_colab_link": true
    },
    "kernelspec": {
      "name": "python3",
      "display_name": "Python 3"
    },
    "language_info": {
      "name": "python"
    }
  },
  "cells": [
    {
      "cell_type": "markdown",
      "metadata": {
        "id": "view-in-github",
        "colab_type": "text"
      },
      "source": [
        "<a href=\"https://colab.research.google.com/github/PedroAVelezP/IA_AgoDic2024/blob/main/Assignments/Assignment_2_PythonExercises_1.ipynb\" target=\"_parent\"><img src=\"https://colab.research.google.com/assets/colab-badge.svg\" alt=\"Open In Colab\"/></a>"
      ]
    },
    {
      "cell_type": "markdown",
      "source": [
        "<center>\n",
        "\n",
        "# **Artificial Intelligence Class**\n",
        "---\n",
        "### **Name:** Pedro Alberto Velez Platas  \n",
        "### **ID:** 1956896  \n",
        "### **Career:** Biomedical Engineering  \n",
        "\n",
        "---\n",
        "\n",
        "### **Class:** Artificial Intelligence  \n",
        "### **Professor:** Daniel Isaías López Páez  \n",
        "### **Hour:** Tuesday N4-N6  \n",
        "### **Group:** 001  \n",
        "\n",
        "---\n",
        "\n",
        "</center>\n",
        "\n"
      ],
      "metadata": {
        "id": "VE_Y-O8g4RSP"
      }
    },
    {
      "cell_type": "markdown",
      "source": [
        "# **Assignment 2.- Basics on Python.**"
      ],
      "metadata": {
        "id": "qDMPtougzxOK"
      }
    },
    {
      "cell_type": "markdown",
      "source": [
        "**Instructions**\n",
        "Work on the next exercises:\n",
        "\n",
        "*   ***Text Analysis Tool:***  Create a Python program that reads a text file and performs various analyses on its content. The program should: Count the number of words, sentences, and paragraphs. Calculate the average word length. Identify the most common words and their frequencies.\n",
        "*  ***Hangman Game:***  Create a Python program that allows a user to play the game of Hangman. The program should randomly select a word from a predefined list, and the player must guess letters one at a time until they guess the word correctly or run out of attempts.\n",
        "*   ***Number Guessing Game:***  Create a program that generates a random number between 1 and 100, and then asks the user to guess the number. The program should provide hints to the user if the guessed number is greater or less than the target number, and keep asking for a new guess until the user guesses correctly.\n",
        "\n",
        "\n",
        "\n",
        "\n"
      ],
      "metadata": {
        "id": "v7vz9moPz012"
      }
    },
    {
      "cell_type": "markdown",
      "source": [
        "# Text Analysis Tool:"
      ],
      "metadata": {
        "id": "vR7wMnZl0QD5"
      }
    },
    {
      "cell_type": "code",
      "execution_count": 1,
      "metadata": {
        "colab": {
          "base_uri": "https://localhost:8080/"
        },
        "id": "1C569eZCzXXR",
        "outputId": "e879a31b-30ff-4b87-a98d-e2b6c04afe60"
      },
      "outputs": [
        {
          "output_type": "stream",
          "name": "stdout",
          "text": [
            "Number of words: 131\n",
            "Number of sentences: 13\n",
            "Number of paragraphs: 6\n",
            "Average word length: 4.1679389312977095\n",
            "Most common words and their frequencies: [('the', 7), ('he', 6), ('gared', 3), ('dead', 3), ('had', 3), ('they', 3), ('to', 2), ('are', 2), ('dead.”', 2), ('royce', 2), ('asked', 2), ('with', 2), ('and', 2), ('said', 2), ('have', 2), ('no', 2), ('proof', 2), ('sooner', 2), ('later', 2), ('we', 1), ('should', 1), ('start', 1), ('back,”', 1), ('urged', 1), ('as', 1), ('woods', 1), ('began', 1), ('grow', 1), ('dark', 1), ('around', 1), ('them', 1), ('“the', 1), ('wildlings', 1), ('“do', 1), ('frighten', 1), ('you?”', 1), ('ser', 1), ('waymar', 1), ('just', 1), ('hint', 1), ('of', 1), ('a', 1), ('smile', 1), ('did', 1), ('not', 1), ('rise', 1), ('bait', 1), ('was', 1), ('an', 1), ('old', 1), ('man', 1), ('past', 1), ('fifty', 1), ('seen', 1), ('lordlings', 1), ('come', 1), ('go', 1), ('“dead', 1), ('is', 1), ('dead,”', 1), ('“we', 1), ('business', 1), ('“are', 1), ('dead?”', 1), ('softly', 1), ('“what', 1), ('we?”', 1), ('“will', 1), ('saw', 1), ('them,”', 1), ('“if', 1), ('says', 1), ('that’s', 1), ('enough', 1), ('for', 1), ('me.”', 1), ('will', 1), ('known', 1), ('would', 1), ('drag', 1), ('him', 1), ('into', 1), ('quarrel', 1), ('or', 1), ('wished', 1), ('it', 1), ('been', 1), ('rather', 1), ('than', 1), ('“my', 1), ('mother', 1), ('told', 1), ('me', 1), ('that', 1), ('men', 1), ('sing', 1), ('songs,”', 1), ('put', 1), ('in', 1)]\n"
          ]
        }
      ],
      "source": [
        "# Reading the text from a file\n",
        "with open('text.txt', 'r') as file:\n",
        "    text = file.read()\n",
        "\n",
        "# Counting words\n",
        "words = text.split()\n",
        "num_words = len(words)\n",
        "\n",
        "# Counting sentences\n",
        "sentences = text.split('.')\n",
        "num_sentences = len(sentences) - 1  # Subtract one because the last split will be empty\n",
        "\n",
        "# Counting paragraphs\n",
        "paragraphs = text.split('\\n')\n",
        "num_paragraphs = len(paragraphs)\n",
        "\n",
        "# Average word length\n",
        "total_word_length = sum(len(word) for word in words)\n",
        "average_word_length = total_word_length / num_words\n",
        "\n",
        "# Word frequency\n",
        "word_frequency = {}\n",
        "for word in words:\n",
        "    word = word.lower().strip('.,')\n",
        "    if word in word_frequency:\n",
        "        word_frequency[word] += 1\n",
        "    else:\n",
        "        word_frequency[word] = 1\n",
        "\n",
        "# Most common words\n",
        "most_common_words = sorted(word_frequency.items(), key=lambda x: x[1], reverse=True)\n",
        "\n",
        "# Results\n",
        "print(\"Number of words:\", num_words)\n",
        "print(\"Number of sentences:\", num_sentences)\n",
        "print(\"Number of paragraphs:\", num_paragraphs)\n",
        "print(\"Average word length:\", average_word_length)\n",
        "print(\"Most common words and their frequencies:\", most_common_words)\n"
      ]
    },
    {
      "cell_type": "markdown",
      "source": [
        "# Hangman Game:"
      ],
      "metadata": {
        "id": "XfwWJEgl1ro6"
      }
    },
    {
      "cell_type": "code",
      "source": [
        "import random\n",
        "\n",
        "# List of words\n",
        "words = [\"python\", \"programming\", \"hangman\", \"notebook\", \"jupyter\", \"developer\", \"computer\", \"keyboard\", \"mouse\", \"screen\"]\n",
        "\n",
        "# Select random word\n",
        "secret_word = random.choice(words)\n",
        "hidden_word = [\"_\"] * len(secret_word)\n",
        "attempts = 6\n",
        "guessed_letters = []\n",
        "\n",
        "print(\"Welcome to Hangman Game!\")\n",
        "\n",
        "while attempts > 0 and \"_\" in hidden_word:\n",
        "    print(\"Word:\", \" \".join(hidden_word))\n",
        "    print(\"Remaining attempts:\", attempts)\n",
        "    guess = input(\"Guess a letter: \").lower()\n",
        "\n",
        "    if guess in guessed_letters:\n",
        "        print(\"You've already guessed that letter. Try another one.\")\n",
        "    elif guess in secret_word:\n",
        "        guessed_letters.append(guess)\n",
        "        for i in range(len(secret_word)):\n",
        "            if secret_word[i] == guess:\n",
        "                hidden_word[i] = guess\n",
        "    else:\n",
        "        guessed_letters.append(guess)\n",
        "        attempts -= 1\n",
        "        print(\"Incorrect letter.\")\n",
        "\n",
        "if \"_\" not in hidden_word:\n",
        "    print(\"Congratulations! You guessed the word:\", secret_word)\n",
        "else:\n",
        "    print(\"You lost! The word was:\", secret_word)\n"
      ],
      "metadata": {
        "colab": {
          "base_uri": "https://localhost:8080/"
        },
        "id": "r1oUqV3C1vI1",
        "outputId": "98b286cb-08cd-4dc1-909d-38eefd389193"
      },
      "execution_count": 2,
      "outputs": [
        {
          "output_type": "stream",
          "name": "stdout",
          "text": [
            "Welcome to Hangman Game!\n",
            "Word: _ _ _ _ _ _ _ _ _ _ _\n",
            "Remaining attempts: 6\n",
            "Guess a letter: P\n",
            "Word: p _ _ _ _ _ _ _ _ _ _\n",
            "Remaining attempts: 6\n",
            "Guess a letter: p\n",
            "You've already guessed that letter. Try another one.\n",
            "Word: p _ _ _ _ _ _ _ _ _ _\n",
            "Remaining attempts: 6\n",
            "Guess a letter: a\n",
            "Word: p _ _ _ _ a _ _ _ _ _\n",
            "Remaining attempts: 6\n",
            "Guess a letter: r\n",
            "Word: p r _ _ r a _ _ _ _ _\n",
            "Remaining attempts: 6\n",
            "Guess a letter: o\n",
            "Word: p r o _ r a _ _ _ _ _\n",
            "Remaining attempts: 6\n",
            "Guess a letter: g\n",
            "Word: p r o g r a _ _ _ _ g\n",
            "Remaining attempts: 6\n",
            "Guess a letter: m\n",
            "Word: p r o g r a m m _ _ g\n",
            "Remaining attempts: 6\n",
            "Guess a letter: i\n",
            "Word: p r o g r a m m i _ g\n",
            "Remaining attempts: 6\n",
            "Guess a letter: n\n",
            "Congratulations! You guessed the word: programming\n"
          ]
        }
      ]
    },
    {
      "cell_type": "markdown",
      "source": [
        "# Number Guessing Game:"
      ],
      "metadata": {
        "id": "8m8CjOva1ymk"
      }
    },
    {
      "cell_type": "code",
      "source": [
        "import random\n",
        "\n",
        "secret_number = random.randint(1, 100)\n",
        "guessed = False\n",
        "\n",
        "print(\"Welcome to the Number Guessing Game!\")\n",
        "\n",
        "while not guessed:\n",
        "    guess = int(input(\"Guess a number between 1 and 100: \"))\n",
        "\n",
        "    if guess < secret_number:\n",
        "        print(\"Too low.\")\n",
        "    elif guess > secret_number:\n",
        "        print(\"Too high.\")\n",
        "    else:\n",
        "        print(\"Correct! The number was:\", secret_number)\n",
        "        guessed = True\n"
      ],
      "metadata": {
        "colab": {
          "base_uri": "https://localhost:8080/"
        },
        "id": "zi_peAiP115V",
        "outputId": "704a610c-2ea1-4537-d99b-70146e5b6cfa"
      },
      "execution_count": 3,
      "outputs": [
        {
          "output_type": "stream",
          "name": "stdout",
          "text": [
            "Welcome to the Number Guessing Game!\n",
            "Guess a number between 1 and 100: 25\n",
            "Too low.\n",
            "Guess a number between 1 and 100: 75\n",
            "Too high.\n",
            "Guess a number between 1 and 100: 50\n",
            "Too high.\n",
            "Guess a number between 1 and 100: 37\n",
            "Too low.\n",
            "Guess a number between 1 and 100: 45\n",
            "Correct! The number was: 45\n"
          ]
        }
      ]
    }
  ]
}